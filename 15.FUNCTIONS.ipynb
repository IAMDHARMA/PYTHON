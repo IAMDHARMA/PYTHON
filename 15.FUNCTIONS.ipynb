{
 "cells": [
  {
   "cell_type": "code",
   "execution_count": 1,
   "id": "da3ce503-e25b-47a9-a2eb-48ff7fa197cb",
   "metadata": {},
   "outputs": [
    {
     "name": "stdout",
     "output_type": "stream",
     "text": [
      "hi,how are you\n"
     ]
    }
   ],
   "source": [
    "def fuction1():\n",
    "    print(\"hi,how are you\")\n",
    "    \n",
    "fuction1()"
   ]
  },
  {
   "cell_type": "code",
   "execution_count": 2,
   "id": "b5507158-d9c1-4c0e-844b-7acbfa3aa6f5",
   "metadata": {},
   "outputs": [
    {
     "name": "stdout",
     "output_type": "stream",
     "text": [
      "hi hello\n"
     ]
    }
   ],
   "source": [
    "print(\"hi hello\")"
   ]
  },
  {
   "cell_type": "code",
   "execution_count": 3,
   "id": "fa265c56-1643-441e-96a1-7827bb11f076",
   "metadata": {},
   "outputs": [
    {
     "name": "stdout",
     "output_type": "stream",
     "text": [
      "hi,how are you\n"
     ]
    }
   ],
   "source": [
    "print(\"hi,how are you\")"
   ]
  },
  {
   "cell_type": "code",
   "execution_count": 4,
   "id": "f6cf90b1-673b-4e76-8215-47051ef25a4e",
   "metadata": {},
   "outputs": [
    {
     "name": "stdout",
     "output_type": "stream",
     "text": [
      "3\n"
     ]
    }
   ],
   "source": [
    "a=5\n",
    "b=2\n",
    "\n",
    "\n",
    "def add():\n",
    "    c=a+b\n",
    "\n",
    "\n",
    "def sub():\n",
    "    print(a-b)\n",
    "\n",
    "add()\n",
    "sub()\n"
   ]
  },
  {
   "cell_type": "code",
   "execution_count": 5,
   "id": "53bedc2e-3e5b-481e-8e09-b4f96c059788",
   "metadata": {},
   "outputs": [
    {
     "name": "stdout",
     "output_type": "stream",
     "text": [
      "hi\n",
      "11 -1\n"
     ]
    }
   ],
   "source": [
    "a=5\n",
    "b=6\n",
    "\n",
    "def add():\n",
    "    global c,d\n",
    "    c=a+b\n",
    "    d=a-b\n",
    "    print(\"hi\")\n",
    "\n",
    "def sub():\n",
    "    print(c,d)\n",
    "add()\n",
    "sub()\n",
    "    "
   ]
  },
  {
   "cell_type": "code",
   "execution_count": 6,
   "id": "0c0e4979-253b-4919-9249-56497c62f0dc",
   "metadata": {},
   "outputs": [
    {
     "name": "stdout",
     "output_type": "stream",
     "text": [
      "hi,how are you\n"
     ]
    }
   ],
   "source": [
    "print(\"hi,how are you\")\n"
   ]
  },
  {
   "cell_type": "markdown",
   "id": "95ff4a18-d436-45ba-bd6b-7bf0f4a792b2",
   "metadata": {},
   "source": [
    "# Arguments"
   ]
  },
  {
   "cell_type": "code",
   "execution_count": 7,
   "id": "2612dd81-1c84-413d-969b-8dc0712d2abc",
   "metadata": {},
   "outputs": [
    {
     "name": "stdout",
     "output_type": "stream",
     "text": [
      "11\n"
     ]
    }
   ],
   "source": [
    "def add(a,b):\n",
    "    c=a+b\n",
    "    return c\n",
    "k=add(b=5,a=6) \n",
    "print(k)"
   ]
  },
  {
   "cell_type": "code",
   "execution_count": 8,
   "id": "501e6037-8d78-4a93-a568-933dae78e5f5",
   "metadata": {},
   "outputs": [
    {
     "name": "stdout",
     "output_type": "stream",
     "text": [
      "6\n",
      "2\n"
     ]
    }
   ],
   "source": [
    "\n",
    "def add(a,b):\n",
    "    c=a+b\n",
    "    return a\n",
    "\n",
    "def sub(a,b):\n",
    "    c=a-b\n",
    "    return c\n",
    "\n",
    "k=add(6,7)\n",
    "print(k)\n",
    "k1=sub(8,6)\n",
    "print(k1)\n",
    "# print(k*k1)"
   ]
  },
  {
   "cell_type": "code",
   "execution_count": 9,
   "id": "e901f93f-6728-43a8-ae74-172b3dbfdc93",
   "metadata": {},
   "outputs": [
    {
     "name": "stdout",
     "output_type": "stream",
     "text": [
      "78 10\n"
     ]
    }
   ],
   "source": [
    "def fuction1(A,B):\n",
    "    print(A,B)\n",
    "  \n",
    "\n",
    "\n",
    "fuction1(B=10,A=78)"
   ]
  },
  {
   "cell_type": "code",
   "execution_count": 10,
   "id": "d4b83c97-4cef-4fd1-87e7-62ef0b6615e6",
   "metadata": {},
   "outputs": [
    {
     "name": "stdout",
     "output_type": "stream",
     "text": [
      "190\n"
     ]
    }
   ],
   "source": [
    "def add(num1,num2):\n",
    "    print(num1+num2)\n",
    "\n",
    "\n",
    "\n",
    "add(num2=90,num1=100)"
   ]
  },
  {
   "cell_type": "code",
   "execution_count": 11,
   "id": "10396158-619f-4d60-9ffe-120b023dfa24",
   "metadata": {},
   "outputs": [
    {
     "name": "stdout",
     "output_type": "stream",
     "text": [
      "15\n"
     ]
    }
   ],
   "source": [
    "def add(num1,num2):\n",
    "  k=num2+num1\n",
    "  return k\n",
    "\n",
    "l=add(num2=10,num1=5)\n",
    "print(l)\n",
    "\n",
    "\n",
    "b=89\n",
    "ans=b*l\n",
    "#print(ans)"
   ]
  },
  {
   "cell_type": "code",
   "execution_count": 12,
   "id": "eb662216-5dbb-45cd-b76e-c2886f4985f0",
   "metadata": {},
   "outputs": [
    {
     "name": "stdout",
     "output_type": "stream",
     "text": [
      "10\n"
     ]
    }
   ],
   "source": [
    "def add(**num):\n",
    "  print(num[\"num2\"])\n",
    "\n",
    "\n",
    "add(num2=10,num1=5,num3=56)"
   ]
  },
  {
   "cell_type": "code",
   "execution_count": 13,
   "id": "30704dcb-0d98-49e0-8b2d-91129de9fe17",
   "metadata": {},
   "outputs": [],
   "source": [
    "def myfunction():\n",
    "  pass\n",
    "\n",
    "\n",
    "myfunction()"
   ]
  },
  {
   "cell_type": "code",
   "execution_count": 14,
   "id": "0ea12961-545a-44fb-a5c3-eb4794fb9ded",
   "metadata": {},
   "outputs": [],
   "source": [
    "for i in range(10):\n",
    "    pass"
   ]
  },
  {
   "cell_type": "code",
   "execution_count": 15,
   "id": "baea0b58-7ae5-443d-8e59-412b3cd27757",
   "metadata": {},
   "outputs": [
    {
     "name": "stdout",
     "output_type": "stream",
     "text": [
      "30\n"
     ]
    }
   ],
   "source": [
    "def add(num1,num2):\n",
    "  k=(num1+num2)\n",
    "  return k\n",
    "\n",
    "k=add(10,20)\n",
    "print(k)\n",
    "#outpu1=k+20\n",
    "#print(outpu1)"
   ]
  },
  {
   "cell_type": "code",
   "execution_count": 16,
   "id": "ff4696a3-4507-412f-9daa-039747b00962",
   "metadata": {},
   "outputs": [
    {
     "name": "stdout",
     "output_type": "stream",
     "text": [
      "135 new\n"
     ]
    }
   ],
   "source": [
    "def add(num1,num2):\n",
    "  k=num1+num2\n",
    "  return k\n",
    "  \n",
    "\n",
    "\n",
    "\n",
    "new=add(90,45)\n",
    "print(new,\"new\")\n",
    "\n",
    "\n",
    "\n",
    "# add1=new+78\n",
    "# print(add1)"
   ]
  },
  {
   "cell_type": "code",
   "execution_count": 17,
   "id": "df43ae19-73f1-496c-bcfa-c9d86ba2e5b6",
   "metadata": {},
   "outputs": [],
   "source": [
    "def add1(num1,num2):\n",
    "  k=(num1+num2)\n",
    "  return k\n",
    "\n",
    "\n",
    "def sub(num1,num2):\n",
    "  k=(num1-num2)\n",
    "  return k  "
   ]
  },
  {
   "cell_type": "code",
   "execution_count": 18,
   "id": "13f96870-a97a-4516-a49a-6895d8bd6ae4",
   "metadata": {},
   "outputs": [
    {
     "name": "stdout",
     "output_type": "stream",
     "text": [
      "1440\n"
     ]
    }
   ],
   "source": [
    "ADD1=add1(10,20)\n",
    "SUB1=sub(60,12)\n",
    "\n",
    "\n",
    "\n",
    "output1=ADD1*SUB1\n",
    "print(output1)"
   ]
  },
  {
   "cell_type": "code",
   "execution_count": 19,
   "id": "66b2550f-87c3-43be-a01b-daa972a453b9",
   "metadata": {},
   "outputs": [
    {
     "name": "stdout",
     "output_type": "stream",
     "text": [
      "'<' not supported between instances of 'str' and 'int'\n"
     ]
    }
   ],
   "source": [
    "def age(a):\n",
    "    try:\n",
    "        if a<18:\n",
    "            print(\"child\")\n",
    "        elif a>=18 and a<50:\n",
    "            print(\"adult\")\n",
    "        else:\n",
    "            print(\"aged\")\n",
    "    except Exception as e:\n",
    "        print(e)\n",
    "\n",
    "a=\"hi\"\n",
    "age(a)\n",
    "    "
   ]
  },
  {
   "cell_type": "code",
   "execution_count": null,
   "id": "e9b2fd4a-c6cc-4561-b019-f0993776c78e",
   "metadata": {},
   "outputs": [],
   "source": []
  }
 ],
 "metadata": {
  "kernelspec": {
   "display_name": "base",
   "language": "python",
   "name": "python3"
  },
  "language_info": {
   "codemirror_mode": {
    "name": "ipython",
    "version": 3
   },
   "file_extension": ".py",
   "mimetype": "text/x-python",
   "name": "python",
   "nbconvert_exporter": "python",
   "pygments_lexer": "ipython3",
   "version": "3.12.7"
  }
 },
 "nbformat": 4,
 "nbformat_minor": 5
}
