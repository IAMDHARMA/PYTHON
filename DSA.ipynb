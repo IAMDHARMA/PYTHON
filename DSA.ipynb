{
 "cells": [
  {
   "cell_type": "code",
   "execution_count": 3,
   "id": "5e0edbc6",
   "metadata": {},
   "outputs": [
    {
     "name": "stdout",
     "output_type": "stream",
     "text": [
      "[1, 2, 5, 10, 11]\n",
      "[11, 10, 5, 2, 1]\n"
     ]
    }
   ],
   "source": [
    "# bubble sort\n",
    "a=[1,10,11,5,2]\n",
    "\n",
    "for i in range(len(a)-1):\n",
    "    for j in range(len(a)-1):\n",
    "        if a[j]>a[j+1]:\n",
    "            a[j],a[j+1]=a[j+1],a[j]\n",
    "        elif a[j]<a[j+1]:\n",
    "            continue\n",
    "print(a)\n",
    "\n",
    "for i in range(len(a)-1):\n",
    "    for j in range(len(a)-1):\n",
    "        if a[j]<a[j+1]:\n",
    "            a[j],a[j+1]=a[j+1],a[j]\n",
    "        elif a[j]>a[j+1]:\n",
    "            continue\n",
    "print(a)"
   ]
  },
  {
   "cell_type": "code",
   "execution_count": 4,
   "id": "9ccd5650",
   "metadata": {},
   "outputs": [
    {
     "name": "stdout",
     "output_type": "stream",
     "text": [
      "[11, 10, 5, 2, 1]\n"
     ]
    }
   ],
   "source": [
    "while (True):\n",
    "    b=True\n",
    "    for i in range(len(a)-1):\n",
    "        for j in range(len(a)-1):\n",
    "            if a[j]<a[j+1]:\n",
    "                a[j],a[j+1]=a[j+1],a[j]\n",
    "    if b==True:\n",
    "        break\n",
    "\n",
    "print(a)"
   ]
  }
 ],
 "metadata": {
  "kernelspec": {
   "display_name": "base",
   "language": "python",
   "name": "python3"
  },
  "language_info": {
   "codemirror_mode": {
    "name": "ipython",
    "version": 3
   },
   "file_extension": ".py",
   "mimetype": "text/x-python",
   "name": "python",
   "nbconvert_exporter": "python",
   "pygments_lexer": "ipython3",
   "version": "3.12.7"
  }
 },
 "nbformat": 4,
 "nbformat_minor": 5
}
