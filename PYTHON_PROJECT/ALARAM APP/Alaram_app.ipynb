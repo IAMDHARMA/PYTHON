{
 "cells": [
  {
   "cell_type": "code",
   "execution_count": 1,
   "id": "297d410c",
   "metadata": {},
   "outputs": [
    {
     "name": "stdout",
     "output_type": "stream",
     "text": [
      "Time to wake up!\n"
     ]
    }
   ],
   "source": [
    "import time\n",
    "\n",
    "alarm_time = input('Enter the alarm time (HH:MM): ')\n",
    "while True:\n",
    "    current_time = time.strftime(\"%H:%M\")\n",
    "    if current_time == alarm_time:\n",
    "        print(\"Time to wake up!\")\n",
    "        break\n",
    "    time.sleep(1)\n"
   ]
  }
 ],
 "metadata": {
  "kernelspec": {
   "display_name": "base",
   "language": "python",
   "name": "python3"
  },
  "language_info": {
   "codemirror_mode": {
    "name": "ipython",
    "version": 3
   },
   "file_extension": ".py",
   "mimetype": "text/x-python",
   "name": "python",
   "nbconvert_exporter": "python",
   "pygments_lexer": "ipython3",
   "version": "3.12.7"
  }
 },
 "nbformat": 4,
 "nbformat_minor": 5
}
