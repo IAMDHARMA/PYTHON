{
 "cells": [
  {
   "cell_type": "code",
   "execution_count": 3,
   "id": "96ec94c5",
   "metadata": {},
   "outputs": [
    {
     "name": "stdout",
     "output_type": "stream",
     "text": [
      "Collecting deepseek\n",
      "  Downloading deepseek-1.0.0-py3-none-any.whl.metadata (3.9 kB)\n",
      "Requirement already satisfied: requests in c:\\users\\dharm\\anaconda3\\lib\\site-packages (from deepseek) (2.32.3)\n",
      "Requirement already satisfied: charset-normalizer<4,>=2 in c:\\users\\dharm\\anaconda3\\lib\\site-packages (from requests->deepseek) (3.3.2)\n",
      "Requirement already satisfied: idna<4,>=2.5 in c:\\users\\dharm\\anaconda3\\lib\\site-packages (from requests->deepseek) (3.7)\n",
      "Requirement already satisfied: urllib3<3,>=1.21.1 in c:\\users\\dharm\\anaconda3\\lib\\site-packages (from requests->deepseek) (2.2.3)\n",
      "Requirement already satisfied: certifi>=2017.4.17 in c:\\users\\dharm\\anaconda3\\lib\\site-packages (from requests->deepseek) (2025.4.26)\n",
      "Downloading deepseek-1.0.0-py3-none-any.whl (4.5 kB)\n",
      "Installing collected packages: deepseek\n",
      "Successfully installed deepseek-1.0.0\n",
      "Note: you may need to restart the kernel to use updated packages.\n"
     ]
    }
   ],
   "source": [
    "pip install deepseek"
   ]
  },
  {
   "cell_type": "code",
   "execution_count": 5,
   "id": "b04efbed",
   "metadata": {},
   "outputs": [],
   "source": [
    "import deepseek"
   ]
  },
  {
   "cell_type": "code",
   "execution_count": null,
   "id": "c280b746",
   "metadata": {},
   "outputs": [],
   "source": [
    "deepseek.api='sk-6e937f5dd81a4236838de05d8eca3bfc'"
   ]
  },
  {
   "cell_type": "code",
   "execution_count": 9,
   "id": "2a8e557b",
   "metadata": {},
   "outputs": [],
   "source": [
    "messages=[{'role':'system','content':'you are a intelligent assistant.'}]\n"
   ]
  },
  {
   "cell_type": "code",
   "execution_count": null,
   "id": "3b4d8359",
   "metadata": {},
   "outputs": [],
   "source": [
    "while True:\n",
    "    message=input('user':'')\n",
    "    if messages.append(\n",
    "        {'role':'user','content':message}\n",
    "    )\n",
    "    chat=deepseek.ChatCompletion.create(\n",
    "        model=\n",
    "    )"
   ]
  },
  {
   "cell_type": "code",
   "execution_count": 11,
   "id": "9b487370",
   "metadata": {},
   "outputs": [
    {
     "name": "stdout",
     "output_type": "stream",
     "text": [
      "Request failed, error code: 402\n"
     ]
    }
   ],
   "source": [
    "import requests\n",
    "\n",
    "API_KEY = \"sk-6e937f5dd81a4236838de05d8eca3bfc\"  # Replace with your actual API key\n",
    "url = \"https://api.deepseek.com/chat/completions\"\n",
    "headers = {\n",
    "        \"Content-Type\": \"application/json\",\n",
    "        \"Authorization\": f\"Bearer {API_KEY}\"\n",
    "    }\n",
    "data = {\n",
    "        \"model\": \"deepseek-reasoner\",\n",
    "        \"messages\": [\n",
    "            {\"role\": \"system\", \"content\": \"You are a professional assistant\"},\n",
    "            {\"role\": \"user\", \"content\": \"Write Python code for a quicksort algorithm.\"}\n",
    "        ],\n",
    "        \"stream\": False\n",
    "    }\n",
    "\n",
    "response = requests.post(url, headers=headers, json=data)\n",
    "if response.status_code == 200:\n",
    "        result = response.json()\n",
    "        print(result['choices'][0]['message']['content'])\n",
    "else:\n",
    "        print(\"Request failed, error code:\", response.status_code)"
   ]
  }
 ],
 "metadata": {
  "kernelspec": {
   "display_name": "base",
   "language": "python",
   "name": "python3"
  },
  "language_info": {
   "codemirror_mode": {
    "name": "ipython",
    "version": 3
   },
   "file_extension": ".py",
   "mimetype": "text/x-python",
   "name": "python",
   "nbconvert_exporter": "python",
   "pygments_lexer": "ipython3",
   "version": "3.12.7"
  }
 },
 "nbformat": 4,
 "nbformat_minor": 5
}
