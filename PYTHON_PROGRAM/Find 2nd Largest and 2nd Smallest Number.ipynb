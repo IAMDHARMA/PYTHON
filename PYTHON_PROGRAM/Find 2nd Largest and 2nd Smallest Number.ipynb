{
 "cells": [
  {
   "cell_type": "markdown",
   "id": "bb88a52e",
   "metadata": {},
   "source": [
    "# Remove duplicates to avoid issues\n",
    "# Initialize\n",
    "# Find largest and second largest\n",
    "# Find smallest and second smallest"
   ]
  },
  {
   "cell_type": "code",
   "execution_count": null,
   "id": "8525e5d5",
   "metadata": {},
   "outputs": [
    {
     "name": "stdout",
     "output_type": "stream",
     "text": [
      "Second Largest: 20\n",
      "Second Smallest: 5\n"
     ]
    }
   ],
   "source": [
    "numbers = [10, 5, 20, 8, 15,2, 2, 25]\n",
    "\n",
    "# Remove duplicates to avoid issues\n",
    "unique_numbers = list(set(numbers))\n",
    "\n",
    "# Initialize\n",
    "largest = second_largest = float('-inf')\n",
    "\n",
    "# Find largest and second largest\n",
    "for num in unique_numbers:\n",
    "    if num > largest:\n",
    "        second_largest = largest\n",
    "        largest = num\n",
    "    elif num > second_largest:\n",
    "        second_largest = num\n",
    "print(\"Second Largest:\", second_largest)\n",
    "\n",
    "# Find smallest and second smallest\n",
    "\n",
    "smallest = second_smallest = float('inf')\n",
    "\n",
    "for num in unique_numbers:\n",
    "    if num < smallest:\n",
    "        second_smallest = smallest\n",
    "        smallest = num\n",
    "    elif num < second_smallest:\n",
    "        second_smallest = num\n",
    "\n",
    "print(\"Second Smallest:\", second_smallest)"
   ]
  },
  {
   "cell_type": "code",
   "execution_count": 5,
   "id": "75bb6ce2",
   "metadata": {},
   "outputs": [
    {
     "name": "stdout",
     "output_type": "stream",
     "text": [
      "Second Largest: 20\n",
      "Second Smallest: 5\n"
     ]
    }
   ],
   "source": [
    "def find_second_largest_smallest(numbers):\n",
    "    # Remove duplicates to avoid repetition\n",
    "    unique_numbers = list(set(numbers))\n",
    "    \n",
    "    # If there are fewer than 2 unique numbers, return None\n",
    "    if len(unique_numbers) < 2:\n",
    "        return None, None\n",
    "    \n",
    "    # Initialize values\n",
    "    largest = second_largest = float('-inf')\n",
    "    smallest = second_smallest = float('inf')\n",
    "    \n",
    "    # Find largest and second largest\n",
    "    for num in unique_numbers:\n",
    "        if num > largest:\n",
    "            second_largest = largest\n",
    "            largest = num\n",
    "        elif num > second_largest:\n",
    "            second_largest = num\n",
    "    \n",
    "    # Find smallest and second smallest\n",
    "    for num in unique_numbers:\n",
    "        if num < smallest:\n",
    "            second_smallest = smallest\n",
    "            smallest = num\n",
    "        elif num < second_smallest:\n",
    "            second_smallest = num\n",
    "    \n",
    "    return second_largest, second_smallest\n",
    "\n",
    "\n",
    "# Example usage\n",
    "numbers = [10, 5, 20, 8, 15, 2, 25]\n",
    "second_largest, second_smallest = find_second_largest_smallest(numbers)\n",
    "print(\"Second Largest:\", second_largest)\n",
    "print(\"Second Smallest:\", second_smallest)\n"
   ]
  },
  {
   "cell_type": "code",
   "execution_count": null,
   "id": "9365f4d6",
   "metadata": {},
   "outputs": [
    {
     "name": "stdout",
     "output_type": "stream",
     "text": [
      "6\n"
     ]
    }
   ],
   "source": [
    "def second_largest_and_second_smallest(number):\n",
    "    unique_numbers = list(set(number))\n",
    "    if len(unique_numbers)<2:\n",
    "        return None, None\n",
    "    largest=second_largest=float('-inf')\n",
    "    \n",
    "\n",
    "    for num in unique_numbers:\n",
    "        if num > largest:\n",
    "            second_largest=largest\n",
    "            largest=num\n",
    "        elif num > second_largest:\n",
    "            \n",
    "            second_largest=num\n",
    "    return second_largest\n",
    "numbers=[1,2,3,4,5,6,7]\n",
    "second_largest=second_largest_and_second_smallest(numbers)\n",
    "print(second_largest)\n"
   ]
  },
  {
   "cell_type": "code",
   "execution_count": 1,
   "id": "4eb52950",
   "metadata": {},
   "outputs": [
    {
     "name": "stdout",
     "output_type": "stream",
     "text": [
      "Second Largest: 20\n",
      "Second Smallest: 5\n"
     ]
    }
   ],
   "source": [
    "def find_second_largest_smallest(numbers):\n",
    "    # Remove duplicates and sort the list\n",
    "    unique_numbers = sorted(set(numbers))\n",
    "    \n",
    "    # Check if we have at least 2 unique numbers\n",
    "    if len(unique_numbers) < 2:\n",
    "        return None, None\n",
    "\n",
    "    second_smallest = unique_numbers[1]\n",
    "    second_largest = unique_numbers[-2]\n",
    "    \n",
    "    return second_largest, second_smallest\n",
    "\n",
    "# Example usage\n",
    "numbers = [10, 5, 20, 8, 15, 2, 25]\n",
    "second_largest, second_smallest = find_second_largest_smallest(numbers)\n",
    "print(\"Second Largest:\", second_largest)\n",
    "print(\"Second Smallest:\", second_smallest)\n"
   ]
  },
  {
   "cell_type": "code",
   "execution_count": null,
   "id": "13c8e310",
   "metadata": {},
   "outputs": [
    {
     "name": "stdout",
     "output_type": "stream",
     "text": [
      "4\n",
      "2\n"
     ]
    }
   ],
   "source": [
    "l=[1,2,3,4,5]\n",
    "first=-1\n",
    "second=-1\n",
    "for i in l:\n",
    "    if i>first:\n",
    "        second,first=first,i\n",
    "    elif i>second:\n",
    "        second=i\n",
    "print(second)        \n",
    "first=float('inf')\n",
    "second=float('inf')\n",
    "for i in l:\n",
    "    if i < first:\n",
    "        second,first=first,i\n",
    "    elif i < second:\n",
    "        second=i\n",
    "print(second)"
   ]
  },
  {
   "cell_type": "code",
   "execution_count": 5,
   "id": "b681a5b5",
   "metadata": {},
   "outputs": [
    {
     "name": "stdout",
     "output_type": "stream",
     "text": [
      "second largest: 4\n",
      "second min: 2\n"
     ]
    }
   ],
   "source": [
    "l=[1,2,3,4,5]\n",
    "first=-1\n",
    "second=-1\n",
    "for i in l:\n",
    "    if i>first:\n",
    "        second,first=first,i\n",
    "    elif i>second:\n",
    "        second=i\n",
    "print('second largest:',second)\n",
    "first=float('inf')\n",
    "second=float('inf')\n",
    "for i in l:\n",
    "    if i<first:\n",
    "        second,first=first,i\n",
    "    elif i<second:\n",
    "        second=i\n",
    "print('second min:',second)\n"
   ]
  }
 ],
 "metadata": {
  "kernelspec": {
   "display_name": "base",
   "language": "python",
   "name": "python3"
  },
  "language_info": {
   "codemirror_mode": {
    "name": "ipython",
    "version": 3
   },
   "file_extension": ".py",
   "mimetype": "text/x-python",
   "name": "python",
   "nbconvert_exporter": "python",
   "pygments_lexer": "ipython3",
   "version": "3.12.7"
  }
 },
 "nbformat": 4,
 "nbformat_minor": 5
}
