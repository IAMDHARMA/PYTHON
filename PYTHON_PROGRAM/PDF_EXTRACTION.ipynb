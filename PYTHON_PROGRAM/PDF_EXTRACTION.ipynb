{
 "cells": [
  {
   "cell_type": "code",
   "execution_count": 1,
   "id": "bfa94adf",
   "metadata": {},
   "outputs": [
    {
     "name": "stdout",
     "output_type": "stream",
     "text": [
      "Collecting pyPDF2\n",
      "  Downloading pypdf2-3.0.1-py3-none-any.whl.metadata (6.8 kB)\n",
      "Downloading pypdf2-3.0.1-py3-none-any.whl (232 kB)\n",
      "Installing collected packages: pyPDF2\n",
      "Successfully installed pyPDF2-3.0.1\n",
      "Note: you may need to restart the kernel to use updated packages.\n"
     ]
    }
   ],
   "source": [
    "pip install pyPDF2"
   ]
  },
  {
   "cell_type": "code",
   "execution_count": 3,
   "id": "b565e478",
   "metadata": {},
   "outputs": [],
   "source": [
    "import PyPDF2"
   ]
  },
  {
   "cell_type": "code",
   "execution_count": 5,
   "id": "396959b2",
   "metadata": {},
   "outputs": [],
   "source": [
    "pdf=open(\"R:/RESUME/DHARMARAJAN M Data Scientist.pdf\",'rb')"
   ]
  },
  {
   "cell_type": "code",
   "execution_count": 8,
   "id": "5f95e26f",
   "metadata": {},
   "outputs": [],
   "source": [
    "pdfReader=PyPDF2.PdfReader(pdf)"
   ]
  },
  {
   "cell_type": "code",
   "execution_count": 16,
   "id": "0eaadb6f",
   "metadata": {},
   "outputs": [
    {
     "data": {
      "text/plain": [
       "1"
      ]
     },
     "execution_count": 16,
     "metadata": {},
     "output_type": "execute_result"
    }
   ],
   "source": [
    "len(pdfReader.pages)"
   ]
  },
  {
   "cell_type": "code",
   "execution_count": 35,
   "id": "bc4b4f36",
   "metadata": {},
   "outputs": [
    {
     "data": {
      "text/plain": [
       "\"   \\n DHARMARAJAN M         \\nAspiring Data Scientist    \\n✈︎ Chennai  |  ✉︎ ai.dharmarajan@gmail.com  |  ☎ 9159308610   |  [in] likedin.com  | </> github.com  \\nCAREER OBJECTIVE________________ _____________________________________________________________________________                                                                            \\nI’m an aspiring Data Scientist with a solid foundation in Python, MySQL, and Git. I’m passionate about working with \\ndata to solve real -world problems and excited to contribute to meaningful projects. I'm eager to grow, learn continuously, \\nand be part of a collaborative team where I can build my skills and make a real impact.  \\nSKILLS_____________________________________________________________________________________________________________                                                                               \\no Programming Languages : Python (NumPy, Pandas, Matplotlib, Scik it-learn basics)  \\no Databases : MySQL (Data retrieval, Joins, Aggregations, Subqueries)  \\no Version Control : Git (Commit, Branching, GitHub collaboration)  \\no Tools & IDEs : Jupyter Notebook, VS Code  \\no Data Analysis : Data cleaning, preprocessing, basic statistical analysis using Python  \\nProjects__________________________________________________________________________________________                                                                                                                                                          \\n Heart Disease Prediction | Source Code  \\no Tools used : Python , Pandas, Seaborn , Matplotlib , Scikit -Learn (sklearn)  \\no This project focuses on predicting the likelihood of heart disease using Machine Learning  techniques. It uses a dataset \\nwith various medical attributes and applies classification algorithms to predict whether a patient is likely to have heart \\ndisease.  \\nSupply Chain Management System  | Source Code  \\no Tools used : Database: MySQL  \\no A relational database project designed to streamline the management of suppliers, products, warehouses, orders, \\ninventory, and shipments. Built using MySQL , this system simulates the real -world operations of a supply chain in a \\nstructured, query -driven environment.  \\nVoice Assistant | Sour ce Code  \\no Tools used : Python 3.x , speech_recognition , pyttsx3 , Wikipedia, sapi5 (Windows speech API)  \\no JARVIS Voice Assistant (Python) JARVIS is a voice -controlled AI assistant built using Python libraries like speech \\nrecognition, pyttsx3, and Wikipedia. It can recognize your voice, search Wikipedia, and speak results back to you — \\nlike your very own Iron Man -inspired AI assistant.  \\nCertification_____________________________________________________________________________________                                                                                                                                       \\n     Besant Technologies  – Got Python, MySQL Certificate in Besant Technologies at Chennai.                       July 202 5 \\n      Hacker Rank - Got SQL Basic Certification in Hacker Rank.                                                                               June 2025  \\n      IBM – Started with Artificial Intelligence.                                                                                                             Jan 2025  \\n      Cisco – Introduction to Data Science.                                                                                                                             Dec 2022  \\nEducation_____ ___________________________________________________________________________________                                                                                                                                              \\n      Aadhavan College of Arts and Science - B.Sc.Cs                                                                                       CGPA -7.35   2025  \\n      Government Higher Secondary School                                                                                            Percentage –68%  2022  \\n       RC Higher Secondary  School                     Percentage –70%  2020  \\n \\n \""
      ]
     },
     "execution_count": 35,
     "metadata": {},
     "output_type": "execute_result"
    }
   ],
   "source": [
    "pageobj=pdfReader.pages[0]\n",
    "pageobj.extract_text()\n"
   ]
  },
  {
   "cell_type": "code",
   "execution_count": 36,
   "id": "d5730154",
   "metadata": {},
   "outputs": [],
   "source": [
    "pdf.close()"
   ]
  }
 ],
 "metadata": {
  "kernelspec": {
   "display_name": "base",
   "language": "python",
   "name": "python3"
  },
  "language_info": {
   "codemirror_mode": {
    "name": "ipython",
    "version": 3
   },
   "file_extension": ".py",
   "mimetype": "text/x-python",
   "name": "python",
   "nbconvert_exporter": "python",
   "pygments_lexer": "ipython3",
   "version": "3.12.7"
  }
 },
 "nbformat": 4,
 "nbformat_minor": 5
}
