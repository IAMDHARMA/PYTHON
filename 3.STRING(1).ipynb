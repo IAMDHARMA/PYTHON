{
 "cells": [
  {
   "cell_type": "code",
   "execution_count": 2,
   "id": "944b7762-1e1e-42c9-9389-2487eee53fc0",
   "metadata": {},
   "outputs": [
    {
     "name": "stdout",
     "output_type": "stream",
     "text": [
      "welcome, hi how are you\n",
      "welcome, ok  how are you\n"
     ]
    }
   ],
   "source": [
    "k = \"welcome, hi how are you\"\n",
    "print(k)\n",
    "print(k.replace(\"hi\", \"ok \"))\n"
   ]
  },
  {
   "cell_type": "code",
   "execution_count": 6,
   "id": "9b056b32-9783-4caf-93b4-e2aa0a148331",
   "metadata": {},
   "outputs": [
    {
     "name": "stdout",
     "output_type": "stream",
     "text": [
      "be the change you wish to see in the world\n"
     ]
    }
   ],
   "source": [
    "k=\"Be tHe Change you wish to see in the world\"\n",
    "x = k.casefold()\n",
    "\n",
    "print(x)\n"
   ]
  },
  {
   "cell_type": "code",
   "execution_count": 3,
   "id": "83b8bf6d-8b53-4797-9434-e29fc6d7dfcf",
   "metadata": {},
   "outputs": [
    {
     "name": "stdout",
     "output_type": "stream",
     "text": [
      "straße\n",
      "strasse\n"
     ]
    }
   ],
   "source": [
    "s1 = \"Straße\"\n",
    "#s2 = \"STRASSE\"\n",
    "# In German, \"ß\" should be treated as \"ss\" when comparing without case. .lower() doesn’t handle this; .casefold() does.\n",
    "print(s1.lower())\n",
    "print(s1.casefold())"
   ]
  },
  {
   "cell_type": "code",
   "execution_count": 10,
   "id": "1c29c88c-0fa5-4770-a999-81636ac24e81",
   "metadata": {},
   "outputs": [
    {
     "name": "stdout",
     "output_type": "stream",
     "text": [
      "  hello   \n",
      "5\n",
      "10\n"
     ]
    }
   ],
   "source": [
    "k = \"hello\"\n",
    "\n",
    "x = k.center(10)\n",
    "\n",
    "print(x)\n",
    "print(len(k))\n",
    "print(len(x))"
   ]
  },
  {
   "cell_type": "code",
   "execution_count": 5,
   "id": "bf6c8717-7b36-4417-bcb5-6b3d0bae4a41",
   "metadata": {},
   "outputs": [
    {
     "name": "stdout",
     "output_type": "stream",
     "text": [
      "2\n"
     ]
    }
   ],
   "source": [
    "k=\"Be the change you wish to see in the world\"\n",
    "\n",
    "x = k.count(\"the\")\n",
    "\n",
    "print(x)"
   ]
  },
  {
   "cell_type": "code",
   "execution_count": 14,
   "id": "95661009-ab3b-4049-ab06-b0ef19797bb1",
   "metadata": {},
   "outputs": [
    {
     "name": "stdout",
     "output_type": "stream",
     "text": [
      "7\n"
     ]
    }
   ],
   "source": [
    "txt = \"Hello, welcome to my world.\"\n",
    "\n",
    "x = txt.index(\"w\")\n",
    "\n",
    "print(x)"
   ]
  },
  {
   "cell_type": "code",
   "execution_count": 13,
   "id": "b96e66c9-5aab-4506-a6ee-071cacbd0c07",
   "metadata": {},
   "outputs": [
    {
     "name": "stdout",
     "output_type": "stream",
     "text": [
      "True\n",
      "False\n"
     ]
    }
   ],
   "source": [
    "k = \"Hello, welcome to my world.\"\n",
    "\n",
    "x = k.startswith(\"H\")\n",
    "y = k.endswith(\"r\")\n",
    "\n",
    "print(x)\n",
    "print(y)"
   ]
  },
  {
   "cell_type": "code",
   "execution_count": 23,
   "id": "c8b69b33-bf42-4f1d-92f7-dc13642a2d32",
   "metadata": {},
   "outputs": [
    {
     "name": "stdout",
     "output_type": "stream",
     "text": [
      "bE THE CHANGE YOU WISH TO SEE IN THE WORLD\n"
     ]
    }
   ],
   "source": [
    "k=\"Be the change you wish to see in the world\"\n",
    "\n",
    "x = k.swapcase()\n",
    "\n",
    "print(x)"
   ]
  },
  {
   "cell_type": "code",
   "execution_count": 15,
   "id": "b667a967-a4ea-43ac-8048-676287b37e74",
   "metadata": {},
   "outputs": [
    {
     "name": "stdout",
     "output_type": "stream",
     "text": [
      "True\n"
     ]
    }
   ],
   "source": [
    "k = \"565543\"\n",
    "\n",
    "x = k.isdecimal()\n",
    "\n",
    "print(x)"
   ]
  },
  {
   "cell_type": "code",
   "execution_count": 13,
   "id": "cbb744be-9ed3-4069-bf3b-c4c3cf1ff95d",
   "metadata": {},
   "outputs": [
    {
     "name": "stdout",
     "output_type": "stream",
     "text": [
      "False\n"
     ]
    }
   ],
   "source": [
    "k = \"apple\"\n",
    "\n",
    "x = k.isalpha()\n",
    "\n",
    "print(x)"
   ]
  },
  {
   "cell_type": "code",
   "execution_count": 16,
   "id": "fc1d7957-d681-4bca-876a-1d10d9016514",
   "metadata": {},
   "outputs": [
    {
     "name": "stdout",
     "output_type": "stream",
     "text": [
      "True\n",
      "False\n"
     ]
    }
   ],
   "source": [
    "# alt+0178 for   ²3\n",
    "\n",
    "k=\"²3\"\n",
    "print(k.isdigit())\n",
    "print(k.isdecimal())"
   ]
  },
  {
   "cell_type": "code",
   "execution_count": 5,
   "id": "b21c146e-83fc-4501-bda2-8e9f7f7c704d",
   "metadata": {},
   "outputs": [
    {
     "name": "stdout",
     "output_type": "stream",
     "text": [
      "²3\n",
      "True\n",
      "False\n"
     ]
    }
   ],
   "source": [
    "s = '\\u00B23'\n",
    "print(s)\n",
    "print(s.isdigit())\n",
    "print(s.isdecimal())"
   ]
  },
  {
   "cell_type": "code",
   "execution_count": 6,
   "id": "278c7679-da1a-4a14-972c-dfb2ac344a1a",
   "metadata": {},
   "outputs": [
    {
     "name": "stdout",
     "output_type": "stream",
     "text": [
      "True\n",
      "True\n"
     ]
    }
   ],
   "source": [
    "s1=\"1000\"\n",
    "print(s1.isdigit())\n",
    "print(s1.isdecimal())"
   ]
  },
  {
   "cell_type": "code",
   "execution_count": 8,
   "id": "8d855323-5844-450a-9b16-bd93807c2217",
   "metadata": {},
   "outputs": [
    {
     "name": "stdout",
     "output_type": "stream",
     "text": [
      "False\n",
      "False\n",
      "True\n"
     ]
    }
   ],
   "source": [
    "s2=\"Ⅻ\"\n",
    "print(s2.isdigit())\n",
    "print(s2.isdecimal())\n",
    "print(s2.isnumeric())"
   ]
  },
  {
   "cell_type": "code",
   "execution_count": 1,
   "id": "d02e8e9e-2b33-4261-83a1-af41ac6b48c2",
   "metadata": {},
   "outputs": [
    {
     "ename": "SyntaxError",
     "evalue": "invalid character '✅' (U+2705) (2338640042.py, line 3)",
     "output_type": "error",
     "traceback": [
      "\u001b[1;36m  Cell \u001b[1;32mIn[1], line 3\u001b[1;36m\u001b[0m\n\u001b[1;33m    | `\"123\"`               | ✅             | ✅            | ✅              |\u001b[0m\n\u001b[1;37m                              ^\u001b[0m\n\u001b[1;31mSyntaxError\u001b[0m\u001b[1;31m:\u001b[0m invalid character '✅' (U+2705)\n"
     ]
    }
   ],
   "source": [
    "| String                | `.isdecimal()` | `.isdigit()` | `.isnumeric()` |\n",
    "| --------------------- | -------------- | ------------ | -------------- |\n",
    "| `\"123\"`               | ✅             | ✅            | ✅              |\n",
    "| `\"²\"` (superscript 2) | ❌             | ✅            | ✅              |\n",
    "| `\"Ⅻ\"` (Roman 12)      | ❌           | ❌            | ✅              |\n",
    "| `\"¼\"` (fraction)      | ❌            | ❌            | ✅              |\n"
   ]
  },
  {
   "cell_type": "markdown",
   "id": "4a982987",
   "metadata": {},
   "source": [
    "capitalize()\tConverts the first character to upper case\n",
    "\n",
    "casefold()\tConverts string into lower case\n",
    "\n",
    "center()\tReturns a centered string\n",
    "\n",
    "count()  \tReturns the number of times a specified value \n",
    "occurs in a string\n",
    "\n",
    "\n",
    "encode()\tReturns an encoded version of the string\n",
    "\n",
    "\n",
    "endswith()\tReturns true if the string ends with the \n",
    "specified value\n",
    "\n",
    "expandtabs()\tSets the tab size of the string\n",
    "\n",
    "find()\t    Searches the string for a specified value and \n",
    "returns the position of where it was found\n",
    "\n",
    "format()\tFormats specified values in a string\n",
    "\n",
    "format_map() Formats specified values from a dictionary in a string\n",
    "\n",
    "index()  \tSearches the string for a specified value and returns the position of where it was found\n",
    "\n",
    "isalnum()\tReturns True if all characters in the string are alphanumeric\n",
    "\n",
    "isalpha()\tReturns True if all characters in the string are in the alphabet\n",
    "\n",
    "isascii()\tReturns True if all characters in the string are ascii characters\n",
    "\n",
    "isdecimal()\tReturns True if all characters in the string are decimals\n",
    "\n",
    "isdigit()\tReturns True if all characters in the string are digits\n",
    "\n",
    "isidentifier()\tReturns True if the string is an identifier\n",
    "\n",
    "islower()\tReturns True if all characters in the string are lower case\n",
    "\n",
    "isnumeric()\tReturns True if all characters in the string are numeric\n",
    "\n",
    "isprintable()\tReturns True if all characters in the string are printable\n",
    "\n",
    "isspace()\tReturns True if all characters in the string are whitespaces\n",
    "\n",
    "istitle()\tReturns True if the string follows the rules of a title\n",
    "\n",
    "isupper()\tReturns True if all characters in the string are upper case\n",
    "\n",
    "join()\tConverts the elements of an iterable into a string\n",
    "\n",
    "ljust()\tReturns a left justified version of the string\n",
    "\n",
    "lower()\tConverts a string into lower case\n",
    "\n",
    "lstrip()\tReturns a left trim version of the string\n",
    "\n",
    "maketrans()\tReturns a translation table to be used in translations\n",
    "\n",
    "partition()\tReturns a tuple where the string is parted into three parts\n",
    "\n",
    "replace()\tReturns a string where a specified value is \n",
    "replaced with a specified value\n",
    "\n",
    "rfind()\tSearches the string for a specified value and returns the last position of where it was found\n",
    "\n",
    "rindex()\tSearches the string for a specified value and returns the last position of where it was found\n",
    "\n",
    "rjust()\tReturns a right justified version of the string\n",
    "\n",
    "rpartition()\tReturns a tuple where the string is parted into three parts\n",
    "\n",
    "rsplit()\tSplits the string at the specified separator, and returns a list\n",
    "\n",
    "rstrip()\tReturns a right trim version of the string\n",
    "\n",
    "split()\tSplits the string at the specified separator, and returns a list\n",
    "\n",
    "splitlines()\tSplits the string at line breaks and returns a list\n",
    "\n",
    "startswith()\tReturns true if the string starts with the specified value\n",
    "\n",
    "strip()\tReturns a trimmed version of the string\n",
    "\n",
    "swapcase()\tSwaps cases, lower case becomes upper case and vice versa\n",
    "\n",
    "title()\tConverts the first character of each word to upper case\n",
    "\n",
    "translate()\tReturns a translated string\n",
    "\n",
    "upper()\tConverts a string into upper case\n",
    "\n",
    "zfill()\tFills the string with a specified number of 0 values at the beginning"
   ]
  }
 ],
 "metadata": {
  "kernelspec": {
   "display_name": "base",
   "language": "python",
   "name": "python3"
  },
  "language_info": {
   "codemirror_mode": {
    "name": "ipython",
    "version": 3
   },
   "file_extension": ".py",
   "mimetype": "text/x-python",
   "name": "python",
   "nbconvert_exporter": "python",
   "pygments_lexer": "ipython3",
   "version": "3.12.7"
  }
 },
 "nbformat": 4,
 "nbformat_minor": 5
}
